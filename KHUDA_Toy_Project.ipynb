{
  "nbformat": 4,
  "nbformat_minor": 0,
  "metadata": {
    "colab": {
      "provenance": []
    },
    "kernelspec": {
      "name": "python3",
      "display_name": "Python 3"
    },
    "language_info": {
      "name": "python"
    }
  },
  "cells": [
    {
      "cell_type": "markdown",
      "source": [
        "구글 드라이브에 있는 csv 파일을 import하여 코랩에서 실행한다 가정하고 작성하였습니다."
      ],
      "metadata": {
        "id": "5psWFVpiYUAM"
      }
    },
    {
      "cell_type": "code",
      "source": [
        "from google.colab import drive\n",
        "\n",
        "drive.mount('/content/drive')"
      ],
      "metadata": {
        "id": "kB2brLp7Yrrr"
      },
      "execution_count": null,
      "outputs": []
    },
    {
      "cell_type": "markdown",
      "source": [
        "## 1-1. Import Data"
      ],
      "metadata": {
        "id": "8GpmzrgJRURb"
      }
    },
    {
      "cell_type": "code",
      "source": [
        "import numpy as np\n",
        "\n",
        "import torch\n",
        "import torch.nn as nn\n",
        "import torch.nn.functional as F #torch.nn.functional.logsigmoid 함수 사용"
      ],
      "metadata": {
        "id": "eFtW5BYRY_pq"
      },
      "execution_count": null,
      "outputs": []
    },
    {
      "cell_type": "code",
      "execution_count": null,
      "metadata": {
        "id": "eSTVogTDOQKA"
      },
      "outputs": [],
      "source": [
        "import csv\n",
        "\n",
        "#아래 주소는 적절하게 바꾸면 됩니다.\n",
        "train_csv = '/content/drive/MyDrive/train.csv'\n",
        "test_csv = '/content/drive/MyDrive/test.csv'\n",
        "\n",
        "import pandas as pd\n",
        "\n",
        "train_data = pd.read_csv(train_csv, header=0)\n",
        "test_data = pd.read_csv(test_csv, header=0)"
      ]
    },
    {
      "cell_type": "markdown",
      "source": [
        "## 1-2. Data preprocessing"
      ],
      "metadata": {
        "id": "FIM-ZqnJXR-a"
      }
    },
    {
      "cell_type": "code",
      "source": [
        "from torch.utils.data import Dataset\n",
        "from torch.utils.data import DataLoader\n",
        "from sklearn.model_selection import train_test_split\n",
        "import math\n",
        "\n",
        "kind = {'한식':0, '양식':1, '아시아음식':2, '일식':3, '중식':4, '분식':5, '카페':6, '뷔페':7, '기타':8}\n",
        "\n",
        "class CustomDataset(Dataset):\n",
        "  def __init__(self, _x):\n",
        "\n",
        "    self.name = _x[0]\n",
        "    self.kind = [0 if x != kind[_x[1]] else 1 for i in range(9)] #one_hot_encoding\n",
        "    self.x = float(_x[2:6])\n",
        "    self.target_score = _x[6]\n",
        "\n",
        "  def __len__(self):\n",
        "    return len(self.x)\n",
        "\n",
        "  def __getitem__(self, idx):\n",
        "    return self.name[idx], self.kind, self.x[idx], self.target_score[idx]\n",
        "\n",
        "X, y = train_data.iloc[:, :6], train_data.iloc[:, 6]\n",
        "\n",
        "X_train, X_test, y_train, y_test = train_test_split(X, y, test_size=0.33, random_state=1230)\n",
        "\n",
        "training_dataset = CustomDataset(X_train, y_train)\n",
        "training_loader = DataLoader(train_dataset, batch_size = BATCH_SIZE, shuffle = True)\n",
        "test_dataset = CustomDataset(X_test, y_test)\n",
        "test_loader = DataLoader(test_dataset, batch_size = BATCH_SIZE, shuffle = True)"
      ],
      "metadata": {
        "id": "mIOhuRh_ZIca"
      },
      "execution_count": null,
      "outputs": []
    },
    {
      "cell_type": "markdown",
      "source": [
        "## 2. Define Mapping function"
      ],
      "metadata": {
        "id": "DdV7RY_4U9az"
      }
    },
    {
      "cell_type": "code",
      "source": [
        "def Mapping(self, score):\n",
        "  '''\n",
        "  score는 [맛집일 확률, 맛집이 아닐 확률] 형태의 텐서입니다.\n",
        "  softmax를 활용하여 맛집일 확률과 맛집이 아닐 확률의 합이\n",
        "  1이 되게 만들어 주신 다음 Mapping을 진행해야 합니다.\n",
        "  '''\n",
        "\n",
        "  return scaled_score"
      ],
      "metadata": {
        "id": "-KQ3rP8sU9Pr"
      },
      "execution_count": null,
      "outputs": []
    },
    {
      "cell_type": "markdown",
      "source": [
        "## 3. Define k_NN function"
      ],
      "metadata": {
        "id": "D0QDRXMrU-C6"
      }
    },
    {
      "cell_type": "code",
      "source": [
        "def k_NN(self, scaled_score, address, weight, data):\n",
        "  '''\n",
        "  k_NN 함수는 어떠한 값도 반환하지 않습니다, 즉 void를 반환합니다.\n",
        "  대신 순위가 높은 음식점 N개를 프린트합니다.\n",
        "  '''\n",
        "\n",
        "  return"
      ],
      "metadata": {
        "id": "jtZZPt69U-MT"
      },
      "execution_count": null,
      "outputs": []
    },
    {
      "cell_type": "markdown",
      "source": [
        "## 4. MLP nodel define"
      ],
      "metadata": {
        "id": "yyMbj8KKR1l0"
      }
    },
    {
      "cell_type": "code",
      "source": [
        "class MLP(nn.Module):\n",
        "  def __init__(self, node_number, *, device):\n",
        "    super(Toy_model, self)__init__()\n",
        "    self.MLP = nn.Sequential(\n",
        "        nn.Linear(5, node_number),\n",
        "        nn.Linear(node_number, node_number*2),\n",
        "        nn.Linear(node_number*2, node_number*4),\n",
        "        nn.Linear(node_number*4, node_number*2),\n",
        "        nn.Linear(node_number*2, 2)\n",
        "    )\n",
        "    #음식 종류 기준 : 네이버\n",
        "    #한식, 양식, 아시아음식, 일식, 중식, 분식, 카페, 뷔페, 기타\n",
        "    self.weight_0 = nn.Parameter(torch.tensor([0.5 for i in range(14)]))\n",
        "\n",
        "  def forward(self, x, address, weight):\n",
        "    score = self.MLP(x)\n",
        "    scaled_score = Mapping(score)\n",
        "\n",
        "    return score"
      ],
      "metadata": {
        "id": "OHusWG46R1-K"
      },
      "execution_count": null,
      "outputs": []
    },
    {
      "cell_type": "markdown",
      "source": [
        "## 6. TRAINING\n",
        "\n",
        "\n",
        "\n",
        "> MLP Training\n",
        "\n"
      ],
      "metadata": {
        "id": "mkQx5PssXjaG"
      }
    },
    {
      "cell_type": "code",
      "source": [
        "def compute_accuracy_and_loss(model, data_loader, device):\n",
        "    cross_entropy = 0\n",
        "    num_examples = 0\n",
        "\n",
        "    for batch_idx, (_name, kind, _x, _target_score) in enumerate(data_loader):\n",
        "      x = [torch.dot(torch.tensor(kind), self_weight_0), _x[0], math.log(_x[1]), math.log(_x[2]), math.log(_x[3])]\n",
        "      x = torch.tensor(x)\n",
        "      x = model(x.to(DEVICE))\n",
        "      model_score = Mapping(x)/100\n",
        "      target_score = _target_score/5\n",
        "\n",
        "      cross_entropy += loss(model_score, target_score)\n",
        "      num_examples += 1\n",
        "\n",
        "    return cross_entropy/num_examples"
      ],
      "metadata": {
        "id": "98Crt6MZPpOX"
      },
      "execution_count": null,
      "outputs": []
    },
    {
      "cell_type": "code",
      "source": [
        "import time\n",
        "\n",
        "DEVICE = torch.device('cuda:0' if torch.cuda.is_available() else 'cpu')\n",
        "BATCH_SIZE = '''yout code'''\n",
        "EPOCH = '''your code'''\n",
        "#데이터셋의 크기가 작아 BATCH_SIZE는 10 이상이 적절할 것 같습니다. 실험을 통해 결정해주세요.\n",
        "#모델이 깊지 않으므로 100 에포크 이상 학습할 필요가 없어 보입니다. 일단은 10 에포크에서 20 에포크 사이를 추천합니다.\n",
        "\n",
        "model = MLP('''your code''', device = DEVICE) #node 개수 또한 실험을 통해 결정해주세요.\n",
        "model = model.to(DEVICE)\n",
        "loss = nn.BCELoss()\n",
        "optimizer =  torch.optim.SGD(model.parameters(), lr = '''your code''') #lr은 학습률을 의미합니다. 0.1, 0.05, 0.01, 0.005, 0.001 총 5가지 학습률에 대해 실험을 진행해주시면 될 것 같습니다.\n",
        "\n",
        "start_time = time.time()\n",
        "train_loss_lst, test_loss_list = [],[],[],[]\n",
        "\n",
        "for epoch in range(EPOCH):\n",
        "  model.train()\n",
        "\n",
        "  for batch_idx, (_name, kind, _x, _target_score) in enumerate(train_loader):\n",
        "    x = [torch.dot(torch.tensor(kind), self_weight_0), _x[0], math.log(_x[1]), math.log(_x[2]), math.log(_x[3])]\n",
        "    x = torch.tensor(x)\n",
        "    x = model(x.to(DEVICE))\n",
        "    model_score = Mapping(x)/100\n",
        "    target_score = _target_score/5\n",
        "\n",
        "    cost = loss(model_score, target_score)\n",
        "\n",
        "    optimizer.zero_grad()\n",
        "    cost.backward()\n",
        "    optimizer.step()\n",
        "\n",
        "    batch_idx += 1\n",
        "\n",
        "    if (batch_idx % 5 == 0):\n",
        "      print (f'Epoch: {epoch:03d}/{EPOCH:03d} | '\n",
        "             f'Batch {batch_idx:03d}/{len(train_loader):03d} |'\n",
        "             f' Cost: {cost:.4f}')\n",
        "\n",
        "  model.eval()\n",
        "\n",
        "  with torch.set_grad_enabled(False):\n",
        "    train_loss = compute_accuracy_and_loss(model, train_loader, device=DEVICE)\n",
        "    test_loss = compute_accuracy_and_loss(model, test_loader, device=DEVICE)\n",
        "    train_loss_lst.append(train_loss)\n",
        "    test_loss_lst.append(test_loss)\n",
        "\n",
        "  print(f'Epoch: {epoch:03d}/{EPOCH:03d} Train Acc.: {train_acc:.2f}%')\n",
        "\n",
        "  elapsed = (time.time() - start_time)/60\n",
        "  print(f'Time elapsed: {elapsed:.2f} min')\n",
        "\n",
        "elapsed = (time.time() - start_time)/60\n",
        "print(f'Total Training Time: {elapsed:.2f} min')\n",
        "\n",
        "PATH = f\"/content/drive/MyDrive/Toy_project_weight}.pth\"  #최종 모델의 가중치 저장\n",
        "torch.save(model.state_dict(), PATH)"
      ],
      "metadata": {
        "id": "euySyZlkXlTa"
      },
      "execution_count": null,
      "outputs": []
    },
    {
      "cell_type": "markdown",
      "source": [
        "## 7. coordinate function\n",
        "\n",
        "\n",
        "> 주소를 입력하면 좌표를 불러오는 함수입니다.\n",
        "오류가 나면 chatGPT와 https://api.ncloud-docs.com/docs/ai-naver-mapsgeocoding-geocode 사이트를 참고해주세요."
      ],
      "metadata": {
        "id": "ZmwzHiVeewKq"
      }
    },
    {
      "cell_type": "code",
      "source": [
        "import requests\n",
        "\n",
        "def import_coordinate(id, secret, address):\n",
        "  url = \"https://naveropenapi.apigw.ntruss.com/map-geocode/v2/geocode\"\n",
        "  headers = {\n",
        "    \"X-NCP-APIGW-API-KEY-ID\": id,\n",
        "    \"X-NCP-APIGW-API-KEY\": secret,\n",
        "  }\n",
        "\n",
        "  params = {\n",
        "    \"query\": address,\n",
        "  }\n",
        "\n",
        "  response = requests.get(url, params=params, headers=headers)\n",
        "  if response.status_code == 200:\n",
        "    data = response.json()\n",
        "\n",
        "    coordinate_x = data.get('addresses', [])[0].get('x')\n",
        "    coordinate_y = data.get('addresses', [])[0].get('y')\n",
        "\n",
        "    return coordinate_x, coordinate_y\n",
        "  else:\n",
        "    raise RuntimeError()"
      ],
      "metadata": {
        "id": "maQYY6gje1T8"
      },
      "execution_count": null,
      "outputs": []
    },
    {
      "cell_type": "markdown",
      "source": [
        "## 8. duration function\n",
        "\n",
        "\n",
        "\n",
        "> 입력받은 좌표를 토대로 최단 경로의 최단 시간을 리턴하는 함수입니다.오류가 나면 chatGPT와 https://api.ncloud-docs.com/docs/ai-naver-mapsdirections-driving 사이트를 참고해주세요."
      ],
      "metadata": {
        "id": "ady-YGfKEuOD"
      }
    },
    {
      "cell_type": "code",
      "source": [
        "def return_duration(start_x, start_y, goal_x, goal_y):\n",
        "  url = \"https://naveropenapi.apigw.ntruss.com/map-direction-15/v1/driving\"\n",
        "\n",
        "  headers = {\n",
        "    \"X-NCP-APIGW-API-KEY-ID\": str(id),\n",
        "    \"X-NCP-APIGW-API-KEY\": str(secret)\n",
        "  }\n",
        "\n",
        "  params = {\n",
        "    \"start\": \"%f,%f\" % (start_x, start_y),\n",
        "    \"goal\": \"%f,%f\" % (goal_x, goal_y),\n",
        "    \"option\": \"trafast\"  # 최단거리\n",
        "  }\n",
        "\n",
        "  response = requests.get(url, headers=headers, params=params)\n",
        "\n",
        "  if response.status_code == 200:\n",
        "    data = response.json()\n",
        "\n",
        "    duration_milliseconds = data[\"route\"][\"trafast\"][0][\"summary\"][\"duration\"]\n",
        "    duration_seconds = duration_milliseconds / 1000\n",
        "\n",
        "    return duration_seconds\n",
        "  else:\n",
        "    raise RuntimeError()"
      ],
      "metadata": {
        "id": "UEpALqlLE_S9"
      },
      "execution_count": null,
      "outputs": []
    },
    {
      "cell_type": "markdown",
      "source": [
        "## 9. Test"
      ],
      "metadata": {
        "id": "c7bT75CqALzN"
      }
    },
    {
      "cell_type": "code",
      "source": [
        "#아래 주소는 적절하게 바꾸면 됩니다.\n",
        "#youngtong.csv 파일도 동일한 csv 파일 양식이라는 가정 하에 작성되었습니다.\n",
        "#youngtong.csv 파일의 주관적 점수는 중요하지 않으니 대충 아무 숫자로 채워 넣으시면 됩니다.\n",
        "\n",
        "youngtong_csv = '/content/drive/MyDrive/youngtong.csv'\n",
        "youngtong_data = pd.read_csv(youngtong_csv, header=0)\n",
        "X_youngtong, y_youngtong = youngyong_data.iloc[:, :6], youngtong_data.iloc[:, 6]\n",
        "youngtong_dataset = CustomDataset(X_youngtong, y_youngtong)"
      ],
      "metadata": {
        "id": "sjOD0HhIANz8"
      },
      "execution_count": null,
      "outputs": []
    }
  ]
}